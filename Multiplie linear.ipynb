{
 "cells": [
  {
   "cell_type": "markdown",
   "id": "85c50b48-3875-45ed-9826-f341689fa547",
   "metadata": {},
   "source": [
    "first import the libraries"
   ]
  },
  {
   "cell_type": "code",
   "execution_count": null,
   "id": "07e893e0-9124-4d98-894a-d28429651ed7",
   "metadata": {},
   "outputs": [],
   "source": [
    "%pip install pandas matplotlib numpy\n",
    "\n",
    "import matplotlib.pyplot as plt\n",
    "import numpy as np\n",
    "import pylab as pl"
   ]
  },
  {
   "cell_type": "markdown",
   "id": "f9569e16-2363-4a2f-ae1a-9a6daacb8f7b",
   "metadata": {},
   "source": [
    "downloading Data "
   ]
  },
  {
   "cell_type": "code",
   "execution_count": null,
   "id": "5671d66f-87ce-413b-9960-1881ade9fd24",
   "metadata": {},
   "outputs": [],
   "source": [
    "r\"Filte Path\""
   ]
  },
  {
   "cell_type": "markdown",
   "id": "ae92a19f-aaa0-4913-a18e-5a1d00db1b67",
   "metadata": {},
   "source": [
    "load Data for read"
   ]
  },
  {
   "cell_type": "code",
   "execution_count": null,
   "id": "95929f54-c038-4bdc-96c6-f4609158d8ab",
   "metadata": {},
   "outputs": [],
   "source": [
    "import pandas as pd\n",
    "\n",
    "df = pd.read_csv('File Path')\n",
    "df.head()"
   ]
  },
  {
   "cell_type": "code",
   "execution_count": null,
   "id": "379c6750-3235-47c8-b99c-f2268769a09c",
   "metadata": {},
   "outputs": [],
   "source": [
    "cdf= df[['Area','Room','Parking','Warehouse','Elevator','Address','Price','Price(USD)']]\n",
    "cdf.head(11)"
   ]
  },
  {
   "cell_type": "code",
   "execution_count": null,
   "id": "7daceb24",
   "metadata": {},
   "outputs": [],
   "source": [
    "# حذف خانه‌هایی که آدرس ندارند\n",
    "cdf_cleaned = cdf.dropna(subset=['Address'])\n",
    "\n",
    "# حذف کاماها و تبدیل ستون 'Area' به float\n",
    "cdf_cleaned['Area'] = cdf_cleaned['Area'].str.replace(',', '').astype(float)\n",
    "\n",
    "# حذف خانه‌هایی که متراژ آنها بسیار بزرگ است (فرض می‌کنیم متراژ بیش از 1000 متر مربع غیرمنطقی است)\n",
    "cdf_cleaned = cdf_cleaned[cdf_cleaned['Area'] <= 1000]\n",
    "\n",
    "# نمایش دیتاست تمیز شده\n",
    "cdf_cleaned.head()"
   ]
  },
  {
   "cell_type": "code",
   "execution_count": null,
   "id": "8bd4dbb2-efdd-4b07-8236-5b997da32520",
   "metadata": {},
   "outputs": [],
   "source": [
    "plt.scatter(cdf.Area,cdf.Price,color = 'blue')\n",
    "plt.xlabel('Area')\n",
    "plt.ylabel('Price')\n",
    "plt.show()"
   ]
  },
  {
   "cell_type": "markdown",
   "id": "215311b4-e3e3-477a-a5fd-37942f714fd9",
   "metadata": {},
   "source": [
    "Train & Test Dataset"
   ]
  },
  {
   "cell_type": "code",
   "execution_count": 145,
   "id": "3b0c9f61-bae8-44a6-be04-428eb9dca6cb",
   "metadata": {},
   "outputs": [],
   "source": [
    "msk = np.random.rand(len(df))<0.8\n",
    "train = cdf[msk]\n",
    "test = cdf[~msk]"
   ]
  },
  {
   "cell_type": "markdown",
   "id": "4af4e862-a638-4a9b-8d45-a53ac031d18f",
   "metadata": {},
   "source": [
    "Train Data Distribeution"
   ]
  },
  {
   "cell_type": "code",
   "execution_count": null,
   "id": "368b4d68-306e-4064-9e20-3346ba2e3b8c",
   "metadata": {},
   "outputs": [],
   "source": [
    "plt.scatter(train.Price, train.Area, color='blue')\n",
    "plt.xlabel('Price')\n",
    "plt.ylabel('Area')\n",
    "plt.show()"
   ]
  },
  {
   "cell_type": "markdown",
   "id": "1bd18e30",
   "metadata": {},
   "source": [
    "For multiple Regression Model"
   ]
  },
  {
   "cell_type": "code",
   "execution_count": null,
   "id": "053bd11a",
   "metadata": {},
   "outputs": [],
   "source": [
    "from sklearn import linear_model\n",
    "\n",
    "regr = linear_model.LinearRegression()\n",
    "x = np.asanyarray(train[['Price']])\n",
    "y = np.asanyarray(train[['Price(USD)']])\n",
    "regr.fit(x, y)\n",
    "print('Coefficient:', regr.coef_)\n",
    "print('Intercept:', regr.intercept_)"
   ]
  },
  {
   "cell_type": "markdown",
   "id": "53fb4ecd",
   "metadata": {},
   "source": [
    "Prediction"
   ]
  },
  {
   "cell_type": "code",
   "execution_count": null,
   "id": "0ee4d5f2",
   "metadata": {},
   "outputs": [],
   "source": [
    "# Ensure the necessary imports are included\n",
    "from sklearn import linear_model\n",
    "\n",
    "# Initialize the linear regression model\n",
    "regr = linear_model.LinearRegression()\n",
    "\n",
    "# Prepare the training data\n",
    "x_train = np.asanyarray(train[['Price']])\n",
    "y_train = np.asanyarray(train[['Price(USD)']])\n",
    "\n",
    "# Fit the model on the training data\n",
    "regr.fit(x_train, y_train)\n",
    "\n",
    "# Prepare the test data\n",
    "x_test = np.asanyarray(test[['Price']])\n",
    "y_test = np.asanyarray(test[['Price(USD)']])\n",
    "\n",
    "# Print the coefficients\n",
    "print('Coefficient:', regr.coef_)\n",
    "print('Intercept:', regr.intercept_)\n",
    "\n",
    "# Calculate and print the variance score\n",
    "print('Variance score: %.2f' % regr.score(x_test, y_test))"
   ]
  },
  {
   "cell_type": "code",
   "execution_count": null,
   "id": "4a14f97e",
   "metadata": {},
   "outputs": [],
   "source": [
    "# Plot the results\n",
    "plt.scatter(train.Price, train['Price(USD)'], color='blue')\n",
    "plt.plot(train.Price, regr.coef_[0][0]*train.Price + regr.intercept_[0], '-r')\n",
    "plt.xlabel('Price')\n",
    "plt.ylabel('Price(USD)')\n",
    "plt.show()"
   ]
  }
 ],
 "metadata": {
  "kernelspec": {
   "display_name": "Python 3",
   "language": "python",
   "name": "python3"
  },
  "language_info": {
   "codemirror_mode": {
    "name": "ipython",
    "version": 3
   },
   "file_extension": ".py",
   "mimetype": "text/x-python",
   "name": "python",
   "nbconvert_exporter": "python",
   "pygments_lexer": "ipython3",
   "version": "3.11.10"
  }
 },
 "nbformat": 4,
 "nbformat_minor": 5
}
